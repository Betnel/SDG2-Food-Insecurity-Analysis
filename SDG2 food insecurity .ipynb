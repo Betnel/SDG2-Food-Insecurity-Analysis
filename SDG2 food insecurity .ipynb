{
 "cells": [
  {
   "cell_type": "markdown",
   "id": "97827ce3",
   "metadata": {},
   "source": [
    "# SDG2 — Food Insecurity & Nutritional Gap Analysis (FINAL)\n",
    "**CRISP–DM + Data Storytelling** · **Auto‑detect WDI schema** · **Charts with data labels**"
   ]
  },
  {
   "cell_type": "markdown",
   "id": "fc39e7c9",
   "metadata": {},
   "source": [
    "# 1) Business Understanding\n",
    "\n",
    "**Problem:** Food insecurity undermines SDG2 (Zero Hunger).\n",
    "**Objective:** Group countries by food insecurity/nutrition profiles to target interventions.\n",
    "**Stakeholders:** Governments, NGOs/Donors, multilaterals, researchers.\n",
    "\n",
    "> **Story lens:** Hunger ≠ only calories. It’s also **affordability** (prices/income) and **nutrition quality**."
   ]
  },
  {
   "cell_type": "markdown",
   "id": "dff98100",
   "metadata": {},
   "source": [
    "# 2) Data Understanding\n",
    "**Source:** World Bank — World Development Indicators (WDI) local export (`Data.csv`, `Metadata.csv`).\n",
    "**Target indicators (use any that are present):**\n",
    "- Undernourishment — `SN.ITK.DEFC.ZS`\n",
    "- FIES (mod+sev / severe) — `SN.ITK.MSFI.ZS`, `SN.ITK.SVFI.ZS`\n",
    "- Child stunting — `SH.STA.STNT.ZS`\n",
    "- Anemia (women 15–49) — `SH.ANM.ALLW.ZS`\n",
    "- Cereal yield (kg/ha) — `AG.YLD.CREL.KG`\n",
    "- Arable land (% land) — `AG.LND.ARBL.ZS`\n",
    "- GDP per capita (USD) — `NY.GDP.PCAP.CD`\n",
    "- CPI Inflation (%/yr) — `FP.CPI.TOTL.ZG`\n",
    "- Population — `SP.POP.TOTL`"
   ]
  },
  {
   "cell_type": "code",
   "execution_count": 2,
   "id": "972d0bbf",
   "metadata": {},
   "outputs": [],
   "source": [
    "%matplotlib inline\n",
    "import os, re, numpy as np, pandas as pd, matplotlib.pyplot as plt, plotly.express as px\n",
    "from sklearn.preprocessing import StandardScaler\n",
    "from sklearn.decomposition import PCA\n",
    "from sklearn.cluster import KMeans, DBSCAN\n",
    "from sklearn.metrics import silhouette_score, davies_bouldin_score, calinski_harabasz_score\n",
    "from scipy.stats import zscore\n",
    "\n",
    "plt.rcParams['figure.figsize'] = (10,5)\n",
    "\n",
    "def add_labels(ax):\n",
    "    \"\"\"Add numeric labels on bars/points for stakeholder clarity.\"\"\"\n",
    "    if hasattr(ax, 'patches') and ax.patches:\n",
    "        for p in ax.patches:\n",
    "            h = p.get_height()\n",
    "            ax.annotate(f\"{h:.1f}\", (p.get_x() + p.get_width()/2, h),\n",
    "                        ha='center', va='bottom', fontsize=9)\n",
    "    if hasattr(ax, 'lines'):\n",
    "        for l in ax.lines:\n",
    "            xdata, ydata = l.get_xdata(), l.get_ydata()\n",
    "            if len(xdata) and len(ydata):\n",
    "                ax.annotate(f\"{ydata[-1]:.1f}\", (xdata[-1], ydata[-1]),\n",
    "                            ha='left', va='bottom', fontsize=9)\n"
   ]
  },
  {
   "cell_type": "markdown",
   "id": "1428e569",
   "metadata": {},
   "source": [
    "### Configure data path"
   ]
  },
  {
   "cell_type": "code",
   "execution_count": 3,
   "id": "f408ec23",
   "metadata": {},
   "outputs": [
    {
     "name": "stdout",
     "output_type": "stream",
     "text": [
      "Files in folder: ['Data.csv', 'Metadata.csv']\n",
      "Using file: C:\\Users\\Nelvin\\Desktop\\Mentee\\SDG GOALS\\Zero Hunger\\Data Extract From World Development Indicators\\Data.csv\n"
     ]
    }
   ],
   "source": [
    "DATA_DIR = r\"C:\\Users\\Nelvin\\Desktop\\Mentee\\SDG GOALS\\Zero Hunger\\Data Extract From World Development Indicators\"\n",
    "\n",
    "print(\"Files in folder:\", os.listdir(DATA_DIR))\n",
    "CSV_NAME = \"Data.csv\" if \"Data.csv\" in os.listdir(DATA_DIR) else None\n",
    "assert CSV_NAME is not None, \"Data.csv not found in the folder above. Check the printed file list.\"\n",
    "FILE_PATH = os.path.join(DATA_DIR, CSV_NAME)\n",
    "print(\"Using file:\", FILE_PATH)\n"
   ]
  },
  {
   "cell_type": "markdown",
   "id": "f7165df2",
   "metadata": {},
   "source": [
    "### Tidy the WDI export (wide-by-year with headers like `2015 [YR2015]`)"
   ]
  },
  {
   "cell_type": "code",
   "execution_count": 4,
   "id": "28a0daa5",
   "metadata": {},
   "outputs": [
    {
     "data": {
      "text/html": [
       "<div>\n",
       "<style scoped>\n",
       "    .dataframe tbody tr th:only-of-type {\n",
       "        vertical-align: middle;\n",
       "    }\n",
       "\n",
       "    .dataframe tbody tr th {\n",
       "        vertical-align: top;\n",
       "    }\n",
       "\n",
       "    .dataframe thead th {\n",
       "        text-align: right;\n",
       "    }\n",
       "</style>\n",
       "<table border=\"1\" class=\"dataframe\">\n",
       "  <thead>\n",
       "    <tr style=\"text-align: right;\">\n",
       "      <th></th>\n",
       "      <th>country</th>\n",
       "      <th>iso3c</th>\n",
       "      <th>indicator</th>\n",
       "      <th>indicator_name</th>\n",
       "      <th>year</th>\n",
       "      <th>value</th>\n",
       "    </tr>\n",
       "  </thead>\n",
       "  <tbody>\n",
       "    <tr>\n",
       "      <th>0</th>\n",
       "      <td>Afghanistan</td>\n",
       "      <td>AFG</td>\n",
       "      <td>SN.ITK.DEFC.ZS</td>\n",
       "      <td>Prevalence of undernourishment (% of population)</td>\n",
       "      <td>1990</td>\n",
       "      <td>NaN</td>\n",
       "    </tr>\n",
       "    <tr>\n",
       "      <th>1</th>\n",
       "      <td>Albania</td>\n",
       "      <td>ALB</td>\n",
       "      <td>SN.ITK.DEFC.ZS</td>\n",
       "      <td>Prevalence of undernourishment (% of population)</td>\n",
       "      <td>1990</td>\n",
       "      <td>NaN</td>\n",
       "    </tr>\n",
       "    <tr>\n",
       "      <th>2</th>\n",
       "      <td>Algeria</td>\n",
       "      <td>DZA</td>\n",
       "      <td>SN.ITK.DEFC.ZS</td>\n",
       "      <td>Prevalence of undernourishment (% of population)</td>\n",
       "      <td>1990</td>\n",
       "      <td>NaN</td>\n",
       "    </tr>\n",
       "    <tr>\n",
       "      <th>3</th>\n",
       "      <td>American Samoa</td>\n",
       "      <td>ASM</td>\n",
       "      <td>SN.ITK.DEFC.ZS</td>\n",
       "      <td>Prevalence of undernourishment (% of population)</td>\n",
       "      <td>1990</td>\n",
       "      <td>NaN</td>\n",
       "    </tr>\n",
       "    <tr>\n",
       "      <th>4</th>\n",
       "      <td>Andorra</td>\n",
       "      <td>AND</td>\n",
       "      <td>SN.ITK.DEFC.ZS</td>\n",
       "      <td>Prevalence of undernourishment (% of population)</td>\n",
       "      <td>1990</td>\n",
       "      <td>NaN</td>\n",
       "    </tr>\n",
       "  </tbody>\n",
       "</table>\n",
       "</div>"
      ],
      "text/plain": [
       "          country iso3c       indicator  \\\n",
       "0     Afghanistan   AFG  SN.ITK.DEFC.ZS   \n",
       "1         Albania   ALB  SN.ITK.DEFC.ZS   \n",
       "2         Algeria   DZA  SN.ITK.DEFC.ZS   \n",
       "3  American Samoa   ASM  SN.ITK.DEFC.ZS   \n",
       "4         Andorra   AND  SN.ITK.DEFC.ZS   \n",
       "\n",
       "                                     indicator_name  year  value  \n",
       "0  Prevalence of undernourishment (% of population)  1990    NaN  \n",
       "1  Prevalence of undernourishment (% of population)  1990    NaN  \n",
       "2  Prevalence of undernourishment (% of population)  1990    NaN  \n",
       "3  Prevalence of undernourishment (% of population)  1990    NaN  \n",
       "4  Prevalence of undernourishment (% of population)  1990    NaN  "
      ]
     },
     "execution_count": 4,
     "metadata": {},
     "output_type": "execute_result"
    }
   ],
   "source": [
    "def tidy_wdi_wideyear(df):\n",
    "    id_cols = [\"Series Name\", \"Series Code\", \"Country Name\", \"Country Code\"]\n",
    "    year_cols = [c for c in df.columns if re.match(r\"^\\s*\\d{4}\\s*\\[YR\\d{4}\\]$\", str(c))]\n",
    "    if not year_cols:\n",
    "        raise ValueError(\"No year columns like '2015 [YR2015]' detected. Inspect df.columns.\")\n",
    "    long = df.melt(id_vars=id_cols, value_vars=year_cols, var_name=\"year_raw\", value_name=\"value\").copy()\n",
    "    long[\"year\"] = long[\"year_raw\"].str.extract(r\"(\\d{4})\").astype(int)\n",
    "    long = long.rename(columns={\n",
    "        \"Series Name\":\"indicator_name\",\n",
    "        \"Series Code\":\"indicator\",\n",
    "        \"Country Name\":\"country\",\n",
    "        \"Country Code\":\"iso3c\"\n",
    "    })\n",
    "    long[\"value\"] = (long[\"value\"].replace(\"..\", np.nan).replace([\"\", \" \"], np.nan))\n",
    "    long[\"value\"] = pd.to_numeric(long[\"value\"], errors=\"coerce\")\n",
    "    out = long[[\"country\",\"iso3c\",\"indicator\",\"indicator_name\",\"year\",\"value\"]]\n",
    "    return out\n",
    "\n",
    "df_raw = pd.read_csv(FILE_PATH)\n",
    "df_long = tidy_wdi_wideyear(df_raw)\n",
    "df_long.head()\n"
   ]
  },
  {
   "cell_type": "markdown",
   "id": "0edb9b07",
   "metadata": {},
   "source": [
    "### Select SDG2 indicators and build features (latest ≤ 2022)"
   ]
  },
  {
   "cell_type": "code",
   "execution_count": 5,
   "id": "345c0a19",
   "metadata": {},
   "outputs": [
    {
     "name": "stdout",
     "output_type": "stream",
     "text": [
      "Indicators found in your file: ['SN.ITK.DEFC.ZS']\n"
     ]
    },
    {
     "name": "stderr",
     "output_type": "stream",
     "text": [
      "C:\\Users\\Nelvin\\AppData\\Local\\Temp\\ipykernel_20376\\580783147.py:29: DeprecationWarning: DataFrameGroupBy.apply operated on the grouping columns. This behavior is deprecated, and in a future version of pandas the grouping columns will be excluded from the operation. Either pass `include_groups=False` to exclude the groupings or explicitly select the grouping columns after groupby to silence this warning.\n",
      "  df2 = df.groupby(\"country\", group_keys=False).apply(lambda g: g.assign(**g[indicator_cols].ffill()))\n"
     ]
    },
    {
     "data": {
      "text/html": [
       "<div>\n",
       "<style scoped>\n",
       "    .dataframe tbody tr th:only-of-type {\n",
       "        vertical-align: middle;\n",
       "    }\n",
       "\n",
       "    .dataframe tbody tr th {\n",
       "        vertical-align: top;\n",
       "    }\n",
       "\n",
       "    .dataframe thead th {\n",
       "        text-align: right;\n",
       "    }\n",
       "</style>\n",
       "<table border=\"1\" class=\"dataframe\">\n",
       "  <thead>\n",
       "    <tr style=\"text-align: right;\">\n",
       "      <th>indicator</th>\n",
       "      <th>country</th>\n",
       "      <th>iso3c</th>\n",
       "      <th>year</th>\n",
       "      <th>SN.ITK.DEFC.ZS</th>\n",
       "    </tr>\n",
       "  </thead>\n",
       "  <tbody>\n",
       "    <tr>\n",
       "      <th>7</th>\n",
       "      <td>Afghanistan</td>\n",
       "      <td>AFG</td>\n",
       "      <td>2022</td>\n",
       "      <td>30.400000</td>\n",
       "    </tr>\n",
       "    <tr>\n",
       "      <th>15</th>\n",
       "      <td>Africa Eastern and Southern</td>\n",
       "      <td>AFE</td>\n",
       "      <td>2022</td>\n",
       "      <td>26.795671</td>\n",
       "    </tr>\n",
       "    <tr>\n",
       "      <th>23</th>\n",
       "      <td>Africa Western and Central</td>\n",
       "      <td>AFW</td>\n",
       "      <td>2022</td>\n",
       "      <td>15.443766</td>\n",
       "    </tr>\n",
       "    <tr>\n",
       "      <th>31</th>\n",
       "      <td>Albania</td>\n",
       "      <td>ALB</td>\n",
       "      <td>2022</td>\n",
       "      <td>4.500000</td>\n",
       "    </tr>\n",
       "    <tr>\n",
       "      <th>39</th>\n",
       "      <td>Algeria</td>\n",
       "      <td>DZA</td>\n",
       "      <td>2022</td>\n",
       "      <td>2.500000</td>\n",
       "    </tr>\n",
       "  </tbody>\n",
       "</table>\n",
       "</div>"
      ],
      "text/plain": [
       "indicator                      country iso3c  year  SN.ITK.DEFC.ZS\n",
       "7                          Afghanistan   AFG  2022       30.400000\n",
       "15         Africa Eastern and Southern   AFE  2022       26.795671\n",
       "23          Africa Western and Central   AFW  2022       15.443766\n",
       "31                             Albania   ALB  2022        4.500000\n",
       "39                             Algeria   DZA  2022        2.500000"
      ]
     },
     "execution_count": 5,
     "metadata": {},
     "output_type": "execute_result"
    }
   ],
   "source": [
    "INDICATORS = {\n",
    "    \"undernourishment\": \"SN.ITK.DEFC.ZS\",\n",
    "    \"fies_modsev\": \"SN.ITK.MSFI.ZS\",\n",
    "    \"fies_severe\": \"SN.ITK.SVFI.ZS\",\n",
    "    \"stunting\": \"SH.STA.STNT.ZS\",\n",
    "    \"anemia_women\": \"SH.ANM.ALLW.ZS\",\n",
    "    \"cereal_yield\": \"AG.YLD.CREL.KG\",\n",
    "    \"arable_land\": \"AG.LND.ARBL.ZS\",\n",
    "    \"gdp_pc\": \"NY.GDP.PCAP.CD\",\n",
    "    \"cpi_inflation\": \"FP.CPI.TOTL.ZG\",\n",
    "    \"population\": \"SP.POP.TOTL\",\n",
    "}\n",
    "available = set(df_long[\"indicator\"].unique())\n",
    "present = [code for code in INDICATORS.values() if code in available]\n",
    "print(\"Indicators found in your file:\", present)\n",
    "\n",
    "df_sdg2 = df_long[df_long[\"indicator\"].isin(present)].copy()\n",
    "\n",
    "feat_year = df_sdg2.pivot_table(\n",
    "    index=[\"country\",\"iso3c\",\"year\"],\n",
    "    columns=\"indicator\",\n",
    "    values=\"value\"\n",
    ").reset_index().sort_values([\"country\",\"year\"])\n",
    "\n",
    "TARGET_YEAR = 2022\n",
    "sub = feat_year[feat_year[\"year\"] <= TARGET_YEAR].copy()\n",
    "\n",
    "def latest_per_country(df, indicator_cols):\n",
    "    df2 = df.groupby(\"country\", group_keys=False).apply(lambda g: g.assign(**g[indicator_cols].ffill()))\n",
    "    latest = df2.sort_values([\"country\",\"year\"]).groupby(\"country\", as_index=False).tail(1)\n",
    "    return latest\n",
    "\n",
    "feature_cols = present\n",
    "feat = latest_per_country(sub[[\"country\",\"iso3c\",\"year\"] + feature_cols], feature_cols)\n",
    "feat.head()\n"
   ]
  },
  {
   "cell_type": "markdown",
   "id": "fcf555c8",
   "metadata": {},
   "source": [
    "# 3) Data Preparation — Quick Insight Visual\n",
    "**Top 15 countries by undernourishment (latest ≤ 2022)** — labeled bars for clarity."
   ]
  },
  {
   "cell_type": "code",
   "execution_count": 6,
   "id": "ffdcf453",
   "metadata": {},
   "outputs": [
    {
     "data": {
      "image/png": "[encoded data removed]",
      "text/plain": [
       "<Figure size 1000x500 with 1 Axes>"
      ]
     },
     "metadata": {},
     "output_type": "display_data"
    }
   ],
   "source": [
    "if \"SN.ITK.DEFC.ZS\" in feat.columns:\n",
    "    dfp = feat[[\"country\",\"SN.ITK.DEFC.ZS\"]].dropna().sort_values(\"SN.ITK.DEFC.ZS\", ascending=False).head(15)\n",
    "    ax = dfp.plot(kind='bar', x='country', y='SN.ITK.DEFC.ZS', legend=False)\n",
    "    ax.set_ylabel('% of population undernourished')\n",
    "    ax.set_title('Countries with Highest Undernourishment (latest ≤ 2022)')\n",
    "    add_labels(ax)\n",
    "    plt.xticks(rotation=45, ha='right'); plt.tight_layout(); plt.show()\n",
    "else:\n",
    "    print(\"Undernourishment indicator not present; skipping this chart.\")\n"
   ]
  },
  {
   "cell_type": "markdown",
   "id": "a58402a5",
   "metadata": {},
   "source": [
    "# 4) Modeling — Clustering (if ≥3 indicators) or Risk Tiers (fallback)"
   ]
  },
  {
   "cell_type": "code",
   "execution_count": 9,
   "id": "0628d57a",
   "metadata": {},
   "outputs": [
    {
     "data": {
      "image/png": "[encoded data removed]",
      "text/plain": [
       "<Figure size 800x400 with 1 Axes>"
      ]
     },
     "metadata": {},
     "output_type": "display_data"
    }
   ],
   "source": [
    "import numpy as np\n",
    "import pandas as pd\n",
    "import matplotlib.pyplot as plt\n",
    "\n",
    "def add_labels(ax):\n",
    "    # keep your existing helper if already defined\n",
    "    for p in getattr(ax, 'patches', []):\n",
    "        h = p.get_height()\n",
    "        ax.annotate(f\"{h:.0f}\", (p.get_x() + p.get_width()/2, h),\n",
    "                    ha='center', va='bottom', fontsize=9)\n",
    "\n",
    "def make_quantile_tiers(s, q=4, base_labels=(\"Low\",\"Moderate\",\"High\",\"Very High\")):\n",
    "    \"\"\"\n",
    "    Robust quantile-tiering:\n",
    "      - Drops duplicate bin edges\n",
    "      - Falls back to rank-based quantiles if too few unique values\n",
    "    \"\"\"\n",
    "    x = s.dropna().astype(float)\n",
    "    if x.empty:\n",
    "        return pd.Series(index=s.index, dtype=\"category\")\n",
    "\n",
    "    qs = np.linspace(0, 1, q + 1)\n",
    "    edges = np.unique(x.quantile(qs).values)  # de-duplicate edges\n",
    "\n",
    "    if edges.size < 3:\n",
    "        # Not enough unique edges (data very flat) → use rank-based percentiles\n",
    "        ranks = x.rank(method=\"average\", pct=True)\n",
    "        bins = np.linspace(0, 1, q + 1)\n",
    "        labels = base_labels[: len(bins) - 1]\n",
    "        cats = pd.cut(ranks, bins=bins, labels=labels, include_lowest=True, duplicates=\"drop\")\n",
    "        return cats.reindex(s.index)\n",
    "\n",
    "    labels = base_labels[: edges.size - 1]\n",
    "    cats = pd.cut(x, bins=edges, labels=labels, include_lowest=True, duplicates=\"drop\")\n",
    "    return cats.reindex(s.index)\n",
    "\n",
    "# ---- build tiers and a labeled bar chart ----\n",
    "if \"SN.ITK.DEFC.ZS\" in feat.columns:\n",
    "    series = feat.set_index(\"country\")[\"SN.ITK.DEFC.ZS\"].dropna()\n",
    "    tiers = make_quantile_tiers(series, q=4, base_labels=(\"Low\",\"Moderate\",\"High\",\"Very High\"))\n",
    "\n",
    "    risk_table = (\n",
    "        tiers.to_frame(\"risk_tier\")\n",
    "             .reset_index()\n",
    "             .merge(feat[[\"country\",\"SN.ITK.DEFC.ZS\"]], on=\"country\", how=\"left\")\n",
    "             .sort_values(\"SN.ITK.DEFC.ZS\", ascending=False)\n",
    "    )\n",
    "\n",
    "    # Order from highest risk to lowest in the chart\n",
    "    order = [\"Very High\",\"High\",\"Moderate\",\"Low\"]\n",
    "    tier_counts = risk_table[\"risk_tier\"].value_counts().reindex(order)\n",
    "\n",
    "    ax = tier_counts.plot(kind=\"bar\", figsize=(8,4))\n",
    "    ax.set_xlabel(\"Risk Tier\")\n",
    "    ax.set_ylabel(\"Number of countries\")\n",
    "    ax.set_title(\"Undernourishment Risk Tiers\")\n",
    "    add_labels(ax)\n",
    "    plt.tight_layout()\n",
    "    plt.show()\n",
    "\n",
    "    risk_table.head(20)\n",
    "else:\n",
    "    print(\"Undernourishment column not available; cannot build risk tiers.\")\n",
    "\n"
   ]
  },
  {
   "cell_type": "markdown",
   "id": "070c8986",
   "metadata": {},
   "source": [
    "# 5) Evaluation & Optional Stress Test\n",
    "If inflation (`FP.CPI.TOTL.ZG`) is present, test sensitivity: **+10% inflation** and show top-affected countries."
   ]
  },
  {
   "cell_type": "code",
   "execution_count": 10,
   "id": "cb1e1fac",
   "metadata": {},
   "outputs": [
    {
     "name": "stdout",
     "output_type": "stream",
     "text": [
      "Inflation indicator not present; skipping stress test.\n"
     ]
    }
   ],
   "source": [
    "def simple_risk_index(feat, cols, signs=None):\n",
    "    df = feat.dropna(subset=cols).copy()\n",
    "    Z = df[cols].apply(zscore, nan_policy='omit')\n",
    "    if signs is None:\n",
    "        signs = {\n",
    "            \"SN.ITK.DEFC.ZS\": +1,\n",
    "            \"SN.ITK.MSFI.ZS\": +1,\n",
    "            \"SH.STA.STNT.ZS\": +1,\n",
    "            \"AG.YLD.CREL.KG\": -1,\n",
    "            \"NY.GDP.PCAP.CD\": -1,\n",
    "            \"FP.CPI.TOTL.ZG\": +1,\n",
    "        }\n",
    "    score = sum(signs.get(c, 0)*Z[c] for c in cols if c in Z.columns)\n",
    "    out = df[[\"country\"]].copy(); out[\"risk_index\"] = score\n",
    "    return out\n",
    "\n",
    "if \"FP.CPI.TOTL.ZG\" in feat.columns:\n",
    "    COLS_FOR_INDEX = [c for c in [\"SN.ITK.DEFC.ZS\",\"SN.ITK.MSFI.ZS\",\"SH.STA.STNT.ZS\",\"AG.YLD.CREL.KG\",\"NY.GDP.PCAP.CD\",\"FP.CPI.TOTL.ZG\"] if c in feat.columns]\n",
    "    baseline = simple_risk_index(feat, COLS_FOR_INDEX)\n",
    "    shocked = feat.copy(); shocked[\"FP.CPI.TOTL.ZG\"] = shocked[\"FP.CPI.TOTL.ZG\"] * 1.10\n",
    "    shocked_idx = simple_risk_index(shocked, COLS_FOR_INDEX)\n",
    "    delta = (shocked_idx.set_index(\"country\")[\"risk_index\"] - baseline.set_index(\"country\")[\"risk_index\"]).sort_values(ascending=False)\n",
    "    top10 = delta.head(10).reset_index().rename(columns={0:\"delta\"})\n",
    "    ax = top10.plot(kind='bar', x='country', y='risk_index', legend=False)\n",
    "    ax.set_ylabel('Change in risk index'); ax.set_title('Inflation +10%: Largest Increases')\n",
    "    add_labels(ax); plt.xticks(rotation=45, ha='right'); plt.tight_layout(); plt.show()\n",
    "else:\n",
    "    print(\"Inflation indicator not present; skipping stress test.\")\n"
   ]
  },
  {
   "cell_type": "markdown",
   "id": "20594a71",
   "metadata": {},
   "source": [
    "# 6) Deployment — Insights, Risks, Recommendations\n",
    "**3 Insights**\n",
    "1. Progress is **uneven** — some countries exceed **30% undernourishment**, others are below **5%**.\n",
    "2. **Nutrition ≠ calories** — (stunting/anemia matter). Add more indicators as available.\n",
    "3. **Price shocks** hurt fragile groups most (see stress‑test if inflation data exist).\n",
    "\n",
    "**3 Risks**\n",
    "- Data gaps & timeliness; unobserved conflict/climate shocks; inflation/commodity volatility.\n",
    "\n",
    "**3 Recommendations (by segment/cluster)**\n",
    "- **High‑risk:** Safety nets, maternal/child nutrition, seed/irrigation/extension for yields.\n",
    "- **Moderate:** Stabilize prices (buffer stocks/cash transfers), improve storage/logistics/market access.\n",
    "- **Resilient:** Diversify, climate‑smart practices, share best practices across peers.\n",
    "- **Inflation‑sensitive:** Price‑stabilization tools, trade facilitation, strengthen local value chains."
   ]
  },
  {
   "cell_type": "markdown",
   "id": "cee5a86f",
   "metadata": {},
   "source": [
    "# 7) CRISP–DM Wrap‑Up\n",
    "- **Business Understanding:** Cluster/segment countries for targeted SDG2 action.\n",
    "- **Data Understanding:** WDI indicators for food access, affordability, nutrition.\n",
    "- **Data Preparation:** Tidy → latest ≤ 2022 → standardized.\n",
    "- **Modeling:** K‑Means & DBSCAN when ≥3 indicators; fallback **risk tiers** when fewer.\n",
    "- **Evaluation:** Profiles & sizes; optional stress test for inflation shock.\n",
    "- **Deployment:** 3 insights • 3 risks • 3 recommendations; export tables/figures for stakeholders.\n",
    "\n",
    "**Takeaway:** Food insecurity is **multi‑dimensional** — interventions must be **segment‑specific**."
   ]
  }
 ],
 "metadata": {
  "kernelspec": {
   "display_name": "Python 3 (ipykernel)",
   "language": "python",
   "name": "python3"
  },
  "language_info": {
   "codemirror_mode": {
    "name": "ipython",
    "version": 3
   },
   "file_extension": ".py",
   "mimetype": "text/x-python",
   "name": "python",
   "nbconvert_exporter": "python",
   "pygments_lexer": "ipython3",
   "version": "3.12.7"
  }
 },
 "nbformat": 4,
 "nbformat_minor": 5
}
